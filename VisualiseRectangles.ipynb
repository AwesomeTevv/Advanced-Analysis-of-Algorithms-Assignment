{
 "cells": [
  {
   "cell_type": "code",
   "execution_count": 37,
   "metadata": {},
   "outputs": [],
   "source": [
    "# Imports\n",
    "import numpy as np\n",
    "import matplotlib.pyplot as plt\n",
    "from matplotlib.patches import Rectangle\n",
    "import csv\n",
    "import random\n"
   ]
  },
  {
   "cell_type": "code",
   "execution_count": 38,
   "metadata": {},
   "outputs": [],
   "source": [
    "colors = [\n",
    "    \"#ABDEE6\",\n",
    "    \"#CBAACB\",\n",
    "    \"#FFFFB5\",\n",
    "    \"#FFCCB6\",\n",
    "    \"#F3B0C3\",\n",
    "    \"#C6DBDA\",\n",
    "    \"#FEE1E8\",\n",
    "    \"#FED7C3\",\n",
    "    \"#F6EAC2\",\n",
    "    \"#ECD5E3\",\n",
    "    \"#FF968A\",\n",
    "    \"#FFAEA5\",\n",
    "    \"#FFC5BF\",\n",
    "    \"#FFD8BF\",\n",
    "    \"#FFC8A2\",\n",
    "    \"#D4F0F0\",\n",
    "    \"#8FCACA\",\n",
    "    \"#CCE2CB\",\n",
    "    \"#B6CFB6\",\n",
    "    \"#97C1A9\",\n",
    "    \"#FCB9AA\",\n",
    "    \"#FFDBCC\",\n",
    "    \"#ECEAE4\",\n",
    "    \"#A2E1DB\",\n",
    "    \"#55CBCD\"\n",
    "]\n"
   ]
  },
  {
   "attachments": {},
   "cell_type": "markdown",
   "metadata": {},
   "source": [
    "# Visualising Input Data\n"
   ]
  },
  {
   "cell_type": "code",
   "execution_count": 39,
   "metadata": {},
   "outputs": [],
   "source": [
    "in_filename = 'sample_input.csv'\n",
    "\n",
    "rectangles = []\n",
    "\n",
    "with open(in_filename) as csv_in_file:\n",
    "    csv_reader = csv.reader(csv_in_file, delimiter=',')\n",
    "    line_count = 0\n",
    "    for row in csv_reader:\n",
    "        if line_count == 0:\n",
    "            headers = row\n",
    "        else:\n",
    "            rectangles.append(row)\n",
    "        line_count += 1\n",
    "\n",
    "csv_in_file.close()\n"
   ]
  },
  {
   "cell_type": "code",
   "execution_count": 40,
   "metadata": {},
   "outputs": [
    {
     "name": "stdout",
     "output_type": "stream",
     "text": [
      "['Number', 'x1', 'y1', 'x2', 'y2']\n",
      "['1', '5', '5', '16', '22']\n",
      "['2', '9', '26', '16', '35']\n",
      "['3', '16', '5', '20', '9']\n",
      "['4', '16', '11', '32', '15']\n",
      "['5', '16', '18', '25', '29']\n",
      "['6', '25', '18', '30', '22']\n",
      "['7', '25', '25', '27', '29']\n",
      "['8', '27', '28', '31', '31']\n",
      "['9', '32', '12', '36', '19']\n",
      "['10', '36', '13', '39', '21']\n",
      "['11', '39', '14', '43', '22']\n"
     ]
    }
   ],
   "source": [
    "print(headers)\n",
    "for rectangle in rectangles:\n",
    "    print(rectangle)\n"
   ]
  },
  {
   "cell_type": "code",
   "execution_count": 41,
   "metadata": {},
   "outputs": [
    {
     "data": {
      "image/png": "[encoded data removed]",
      "text/plain": [
       "<Figure size 640x480 with 1 Axes>"
      ]
     },
     "metadata": {},
     "output_type": "display_data"
    }
   ],
   "source": [
    "fig, ax = plt.subplots()\n",
    "\n",
    "for i in range(len(rectangles)):\n",
    "    # color = '#'+random.randbytes(3).hex()\n",
    "    # color = colors[random.randint(0, len(colors) - 1)]\n",
    "    color = colors[i % len(colors)]\n",
    "    r = rectangles[i]\n",
    "    anchor = (int(r[1]), int(r[2]))\n",
    "    width = int(r[3]) - int(r[1])\n",
    "    height = int(r[4]) - int(r[2])\n",
    "    rectangle = Rectangle(anchor, width, height, fill=True,\n",
    "                          facecolor=color, edgecolor='#000000')\n",
    "    ax.add_patch(rectangle)\n",
    "    rx, ry = rectangle.get_xy()\n",
    "    cx = rx + rectangle.get_width()/2.0\n",
    "    cy = ry + rectangle.get_height()/2.0\n",
    "    ax.annotate(r[0], (cx, cy), color='black',\n",
    "                fontsize=10, ha='center', va='center')\n",
    "\n",
    "# display plot\n",
    "ax.set_xlim(left=0, right=45)\n",
    "ax.set_ylim(bottom=0, top=40)\n",
    "plt.show()\n"
   ]
  },
  {
   "attachments": {},
   "cell_type": "markdown",
   "metadata": {},
   "source": [
    "# Interpretting Output Data\n"
   ]
  },
  {
   "cell_type": "code",
   "execution_count": 42,
   "metadata": {},
   "outputs": [],
   "source": [
    "out_filename = 'sample_output.csv'\n",
    "\n",
    "data = []\n",
    "\n",
    "with open(out_filename) as csv_out_file:\n",
    "    csv_reader = csv.reader(csv_out_file, delimiter=',')\n",
    "    for row in csv_reader:\n",
    "        data.append(row)\n"
   ]
  },
  {
   "cell_type": "code",
   "execution_count": 43,
   "metadata": {},
   "outputs": [
    {
     "name": "stdout",
     "output_type": "stream",
     "text": [
      "['1', '3', '3', '16', '5', '9', '4', '16', '11', '15', '5', '16', '18', '22']\n",
      "['2', '1', '5', '16', '26', '29']\n",
      "['3', '0']\n",
      "['4', '1', '9', '32', '12', '15']\n",
      "['5', '2', '6', '25', '18', '22', '7', '25', '25', '29']\n",
      "['6', '0']\n",
      "['7', '1', '8', '27', '28', '29']\n",
      "['8', '0']\n",
      "['9', '1', '10', '36', '13', '19']\n",
      "['10', '1', '11', '39', '14', '21']\n",
      "['11', '0']\n"
     ]
    }
   ],
   "source": [
    "for d in data:\n",
    "    print(d)\n"
   ]
  },
  {
   "attachments": {},
   "cell_type": "markdown",
   "metadata": {},
   "source": [
    "The output is in the format:\n",
    "\n",
    "$$\n",
    "[\\textrm{Rectangle Number}],[\\textrm{Number of Adjacent Rectangles}],[\\textrm{Rectangle Number of Adjacent Rectangle}],[x],[y_b],[y_t]\n",
    "$$\n"
   ]
  },
  {
   "cell_type": "code",
   "execution_count": 44,
   "metadata": {},
   "outputs": [
    {
     "name": "stdout",
     "output_type": "stream",
     "text": [
      "Rectangle 1 is adjacent to 3 rectangles: Rectangle 3 from (16,5) to (16,9), Rectangle 4 from (16,11) to (16,15), Rectangle 5 from (16,18) to (16,22)\n",
      "Rectangle 2 is adjacent to 1 rectangle: Rectangle 5 from (16,26) to (16,29)\n",
      "Rectangle 3 has no adjacent rectangles\n",
      "Rectangle 4 is adjacent to 1 rectangle: Rectangle 9 from (32,12) to (32,15)\n",
      "Rectangle 5 is adjacent to 2 rectangles: Rectangle 6 from (25,18) to (25,22), Rectangle 7 from (25,25) to (25,29)\n",
      "Rectangle 6 has no adjacent rectangles\n",
      "Rectangle 7 is adjacent to 1 rectangle: Rectangle 8 from (27,28) to (27,29)\n",
      "Rectangle 8 has no adjacent rectangles\n",
      "Rectangle 9 is adjacent to 1 rectangle: Rectangle 10 from (36,13) to (36,19)\n",
      "Rectangle 10 is adjacent to 1 rectangle: Rectangle 11 from (39,14) to (39,21)\n",
      "Rectangle 11 has no adjacent rectangles\n"
     ]
    }
   ],
   "source": [
    "for d in data:\n",
    "    rectangle_num = d[0]\n",
    "    num_adjacent = int(d[1])\n",
    "\n",
    "    if num_adjacent == 0:\n",
    "        print(f\"Rectangle {rectangle_num} has no adjacent rectangles\")\n",
    "    else:\n",
    "        details = ''\n",
    "        for i in range(num_adjacent):\n",
    "            adj_rect_num = d[2 + i*4]\n",
    "            x = d[3+(i*4)]\n",
    "            yb = d[4 + i*4]\n",
    "            yt = d[5 + (i*4)]\n",
    "\n",
    "            details += f\" Rectangle {adj_rect_num} from ({x},{yb}) to ({x},{yt})\"\n",
    "            if i != num_adjacent - 1:\n",
    "                details += ','\n",
    "\n",
    "        if num_adjacent == 1:\n",
    "            print(\n",
    "                f\"Rectangle {rectangle_num} is adjacent to {num_adjacent} rectangle:\" + details)\n",
    "        else:\n",
    "            print(\n",
    "                f\"Rectangle {rectangle_num} is adjacent to {num_adjacent} rectangles:\" + details)\n"
   ]
  },
  {
   "cell_type": "code",
   "execution_count": 47,
   "metadata": {},
   "outputs": [
    {
     "data": {
      "image/png": "[encoded data removed]",
      "text/plain": [
       "<Figure size 640x480 with 1 Axes>"
      ]
     },
     "metadata": {},
     "output_type": "display_data"
    }
   ],
   "source": [
    "fig, ax = plt.subplots()\n",
    "\n",
    "for i, d in enumerate(data):\n",
    "    color = colors[i % len(colors)]\n",
    "    r = rectangles[i]\n",
    "    anchor = (int(r[1]), int(r[2]))\n",
    "    width = int(r[3]) - int(r[1])\n",
    "    height = int(r[4]) - int(r[2])\n",
    "    rectangle = Rectangle(anchor, width, height, fill=True,\n",
    "                          facecolor=color, edgecolor='#000000')\n",
    "    ax.add_patch(rectangle)\n",
    "    rx, ry = rectangle.get_xy()\n",
    "    cx = rx + rectangle.get_width()/2.0\n",
    "    cy = ry + rectangle.get_height()/2.0\n",
    "    ax.annotate(r[0], (cx, cy), color='black',\n",
    "                fontsize=10, ha='center', va='center')\n",
    "\n",
    "    num_adj = int(d[1])\n",
    "    for j in range(num_adj):\n",
    "        x = int(d[3 + j*4])\n",
    "        yb = int(d[4 + j*4])\n",
    "        yt = int(d[5 + j*4])\n",
    "\n",
    "        plt.plot([x, x], [yb, yt], color='red', linewidth=2)\n",
    "\n",
    "# display plot\n",
    "ax.set_xlim(left=0, right=45)\n",
    "ax.set_ylim(bottom=0, top=40)\n",
    "plt.show()\n"
   ]
  }
 ],
 "metadata": {
  "kernelspec": {
   "display_name": "base",
   "language": "python",
   "name": "python3"
  },
  "language_info": {
   "codemirror_mode": {
    "name": "ipython",
    "version": 3
   },
   "file_extension": ".py",
   "mimetype": "text/x-python",
   "name": "python",
   "nbconvert_exporter": "python",
   "pygments_lexer": "ipython3",
   "version": "3.9.16"
  },
  "orig_nbformat": 4
 },
 "nbformat": 4,
 "nbformat_minor": 2
}
