{
 "cells": [
  {
   "cell_type": "code",
   "execution_count": 3,
   "metadata": {},
   "outputs": [],
   "source": [
    "# Imports\n",
    "import numpy as np\n",
    "import matplotlib.pyplot as plt\n",
    "from matplotlib.patches import Rectangle\n",
    "import csv\n",
    "import random\n"
   ]
  },
  {
   "cell_type": "code",
   "execution_count": 4,
   "metadata": {},
   "outputs": [],
   "source": [
    "colors = [\n",
    "    \"#ABDEE6\",\n",
    "    \"#CBAACB\",\n",
    "    \"#FFFFB5\",\n",
    "    \"#FFCCB6\",\n",
    "    \"#F3B0C3\",\n",
    "    \"#C6DBDA\",\n",
    "    \"#FEE1E8\",\n",
    "    \"#FED7C3\",\n",
    "    \"#F6EAC2\",\n",
    "    \"#ECD5E3\",\n",
    "    \"#FF968A\",\n",
    "    \"#FFAEA5\",\n",
    "    \"#FFC5BF\",\n",
    "    \"#FFD8BF\",\n",
    "    \"#FFC8A2\",\n",
    "    \"#D4F0F0\",\n",
    "    \"#8FCACA\",\n",
    "    \"#CCE2CB\",\n",
    "    \"#B6CFB6\",\n",
    "    \"#97C1A9\",\n",
    "    \"#FCB9AA\",\n",
    "    \"#FFDBCC\",\n",
    "    \"#ECEAE4\",\n",
    "    \"#A2E1DB\",\n",
    "    \"#55CBCD\"\n",
    "]\n"
   ]
  },
  {
   "attachments": {},
   "cell_type": "markdown",
   "metadata": {},
   "source": [
    "# Visualising Input Data\n"
   ]
  },
  {
   "cell_type": "code",
   "execution_count": 5,
   "metadata": {},
   "outputs": [],
   "source": [
    "number = '10'\n",
    "\n",
    "in_filename = 'C:/Users/tevle/Desktop/University/Third Year/Advanced Analysis of Algorithms/Assignment/Input/in' + number + '.csv'\n",
    "\n",
    "rectangles = []\n",
    "\n",
    "with open(in_filename) as csv_in_file:\n",
    "    csv_reader = csv.reader(csv_in_file, delimiter=',')\n",
    "    line_count = 0\n",
    "    for row in csv_reader:\n",
    "        if line_count == 0:\n",
    "            headers = row\n",
    "        else:\n",
    "            rectangles.append(row)\n",
    "        line_count += 1\n",
    "\n",
    "csv_in_file.close()\n"
   ]
  },
  {
   "cell_type": "code",
   "execution_count": 6,
   "metadata": {},
   "outputs": [
    {
     "name": "stdout",
     "output_type": "stream",
     "text": [
      "['Number', 'x1', 'y1', 'x2', 'y2']\n",
      "['0', '0', '0', '49631', '49692']\n",
      "['1', '0', '49692', '49631', '100000']\n",
      "['2', '49631', '0', '100000', '49692']\n",
      "['3', '49631', '75240', '74559', '100000']\n",
      "['4', '74559', '75240', '87619', '87384']\n",
      "['5', '74559', '87384', '87619', '100000']\n",
      "['6', '87619', '75240', '100000', '87384']\n",
      "['7', '87619', '87384', '93682', '93716']\n",
      "['8', '87619', '93716', '93682', '100000']\n",
      "['9', '96791', '97078', '100000', '100000']\n"
     ]
    }
   ],
   "source": [
    "print(headers)\n",
    "for rectangle in rectangles:\n",
    "    print(rectangle)\n"
   ]
  },
  {
   "cell_type": "code",
   "execution_count": 7,
   "metadata": {},
   "outputs": [
    {
     "data": {
      "image/png": "[encoded data removed]",
      "text/plain": [
       "<Figure size 640x480 with 1 Axes>"
      ]
     },
     "metadata": {},
     "output_type": "display_data"
    }
   ],
   "source": [
    "fig, ax = plt.subplots()\n",
    "\n",
    "for i in range(len(rectangles)):\n",
    "    # color = '#'+random.randbytes(3).hex()\n",
    "    # color = colors[random.randint(0, len(colors) - 1)]\n",
    "    color = colors[i % len(colors)]\n",
    "    r = rectangles[i]\n",
    "    anchor = (int(r[1]), int(r[2]))\n",
    "    width = int(r[3]) - int(r[1])\n",
    "    height = int(r[4]) - int(r[2])\n",
    "    rectangle = Rectangle(anchor, width, height, fill=True,\n",
    "                          facecolor=color, edgecolor='#000000')\n",
    "    ax.add_patch(rectangle)\n",
    "    rx, ry = rectangle.get_xy()\n",
    "    cx = rx + rectangle.get_width()/2.0\n",
    "    cy = ry + rectangle.get_height()/2.0\n",
    "    ax.annotate(r[0], (cx, cy), color='black',\n",
    "                fontsize=5, ha='center', va='center')\n",
    "\n",
    "# display plot\n",
    "ax.set_xlim(left=0, right=100_000)\n",
    "ax.set_ylim(bottom=0, top=100_000)\n",
    "plt.show()\n"
   ]
  },
  {
   "attachments": {},
   "cell_type": "markdown",
   "metadata": {},
   "source": [
    "# Interpretting Output Data\n"
   ]
  },
  {
   "cell_type": "code",
   "execution_count": 8,
   "metadata": {},
   "outputs": [
    {
     "ename": "FileNotFoundError",
     "evalue": "[Errno 2] No such file or directory: '/Sample/sample_output.csv'",
     "output_type": "error",
     "traceback": [
      "\u001b[1;31m---------------------------------------------------------------------------\u001b[0m",
      "\u001b[1;31mFileNotFoundError\u001b[0m                         Traceback (most recent call last)",
      "Cell \u001b[1;32mIn[8], line 5\u001b[0m\n\u001b[0;32m      1\u001b[0m out_filename \u001b[39m=\u001b[39m \u001b[39m'\u001b[39m\u001b[39m/Sample/sample_output.csv\u001b[39m\u001b[39m'\u001b[39m\n\u001b[0;32m      3\u001b[0m data \u001b[39m=\u001b[39m []\n\u001b[1;32m----> 5\u001b[0m \u001b[39mwith\u001b[39;00m \u001b[39mopen\u001b[39;49m(out_filename) \u001b[39mas\u001b[39;00m csv_out_file:\n\u001b[0;32m      6\u001b[0m     csv_reader \u001b[39m=\u001b[39m csv\u001b[39m.\u001b[39mreader(csv_out_file, delimiter\u001b[39m=\u001b[39m\u001b[39m'\u001b[39m\u001b[39m,\u001b[39m\u001b[39m'\u001b[39m)\n\u001b[0;32m      7\u001b[0m     \u001b[39mfor\u001b[39;00m row \u001b[39min\u001b[39;00m csv_reader:\n",
      "File \u001b[1;32mc:\\Users\\tevle\\anaconda3\\lib\\site-packages\\IPython\\core\\interactiveshell.py:282\u001b[0m, in \u001b[0;36m_modified_open\u001b[1;34m(file, *args, **kwargs)\u001b[0m\n\u001b[0;32m    275\u001b[0m \u001b[39mif\u001b[39;00m file \u001b[39min\u001b[39;00m {\u001b[39m0\u001b[39m, \u001b[39m1\u001b[39m, \u001b[39m2\u001b[39m}:\n\u001b[0;32m    276\u001b[0m     \u001b[39mraise\u001b[39;00m \u001b[39mValueError\u001b[39;00m(\n\u001b[0;32m    277\u001b[0m         \u001b[39mf\u001b[39m\u001b[39m\"\u001b[39m\u001b[39mIPython won\u001b[39m\u001b[39m'\u001b[39m\u001b[39mt let you open fd=\u001b[39m\u001b[39m{\u001b[39;00mfile\u001b[39m}\u001b[39;00m\u001b[39m by default \u001b[39m\u001b[39m\"\u001b[39m\n\u001b[0;32m    278\u001b[0m         \u001b[39m\"\u001b[39m\u001b[39mas it is likely to crash IPython. If you know what you are doing, \u001b[39m\u001b[39m\"\u001b[39m\n\u001b[0;32m    279\u001b[0m         \u001b[39m\"\u001b[39m\u001b[39myou can use builtins\u001b[39m\u001b[39m'\u001b[39m\u001b[39m open.\u001b[39m\u001b[39m\"\u001b[39m\n\u001b[0;32m    280\u001b[0m     )\n\u001b[1;32m--> 282\u001b[0m \u001b[39mreturn\u001b[39;00m io_open(file, \u001b[39m*\u001b[39margs, \u001b[39m*\u001b[39m\u001b[39m*\u001b[39mkwargs)\n",
      "\u001b[1;31mFileNotFoundError\u001b[0m: [Errno 2] No such file or directory: '/Sample/sample_output.csv'"
     ]
    }
   ],
   "source": [
    "out_filename = '/Sample/sample_output.csv'\n",
    "\n",
    "data = []\n",
    "\n",
    "with open(out_filename) as csv_out_file:\n",
    "    csv_reader = csv.reader(csv_out_file, delimiter=',')\n",
    "    for row in csv_reader:\n",
    "        data.append(row)\n"
   ]
  },
  {
   "cell_type": "code",
   "execution_count": null,
   "metadata": {},
   "outputs": [
    {
     "name": "stdout",
     "output_type": "stream",
     "text": [
      "['1', '3', '3', '16', '5', '9', '4', '16', '11', '15', '5', '16', '18', '22']\n",
      "['2', '1', '5', '16', '26', '29']\n",
      "['3', '0']\n",
      "['4', '1', '9', '32', '12', '15']\n",
      "['5', '2', '6', '25', '18', '22', '7', '25', '25', '29']\n",
      "['6', '0']\n",
      "['7', '1', '8', '27', '28', '29']\n",
      "['8', '0']\n",
      "['9', '1', '10', '36', '13', '19']\n",
      "['10', '1', '11', '39', '14', '21']\n",
      "['11', '0']\n"
     ]
    }
   ],
   "source": [
    "for d in data:\n",
    "    print(d)\n"
   ]
  },
  {
   "attachments": {},
   "cell_type": "markdown",
   "metadata": {},
   "source": [
    "The output is in the format:\n",
    "\n",
    "$$\n",
    "[\\textrm{Rectangle Number}],[\\textrm{Number of Adjacent Rectangles}],[\\textrm{Rectangle Number of Adjacent Rectangle}],[x],[y_b],[y_t]\n",
    "$$\n"
   ]
  },
  {
   "cell_type": "code",
   "execution_count": null,
   "metadata": {},
   "outputs": [
    {
     "name": "stdout",
     "output_type": "stream",
     "text": [
      "Rectangle 1 is adjacent to 3 rectangles: Rectangle 3 from (16,5) to (16,9), Rectangle 4 from (16,11) to (16,15), Rectangle 5 from (16,18) to (16,22)\n",
      "Rectangle 2 is adjacent to 1 rectangle: Rectangle 5 from (16,26) to (16,29)\n",
      "Rectangle 3 has no adjacent rectangles\n",
      "Rectangle 4 is adjacent to 1 rectangle: Rectangle 9 from (32,12) to (32,15)\n",
      "Rectangle 5 is adjacent to 2 rectangles: Rectangle 6 from (25,18) to (25,22), Rectangle 7 from (25,25) to (25,29)\n",
      "Rectangle 6 has no adjacent rectangles\n",
      "Rectangle 7 is adjacent to 1 rectangle: Rectangle 8 from (27,28) to (27,29)\n",
      "Rectangle 8 has no adjacent rectangles\n",
      "Rectangle 9 is adjacent to 1 rectangle: Rectangle 10 from (36,13) to (36,19)\n",
      "Rectangle 10 is adjacent to 1 rectangle: Rectangle 11 from (39,14) to (39,21)\n",
      "Rectangle 11 has no adjacent rectangles\n"
     ]
    }
   ],
   "source": [
    "for d in data:\n",
    "    rectangle_num = d[0]\n",
    "    num_adjacent = int(d[1])\n",
    "\n",
    "    if num_adjacent == 0:\n",
    "        print(f\"Rectangle {rectangle_num} has no adjacent rectangles\")\n",
    "    else:\n",
    "        details = ''\n",
    "        for i in range(num_adjacent):\n",
    "            adj_rect_num = d[2 + i*4]\n",
    "            x = d[3+(i*4)]\n",
    "            yb = d[4 + i*4]\n",
    "            yt = d[5 + (i*4)]\n",
    "\n",
    "            details += f\" Rectangle {adj_rect_num} from ({x},{yb}) to ({x},{yt})\"\n",
    "            if i != num_adjacent - 1:\n",
    "                details += ','\n",
    "\n",
    "        if num_adjacent == 1:\n",
    "            print(\n",
    "                f\"Rectangle {rectangle_num} is adjacent to {num_adjacent} rectangle:\" + details)\n",
    "        else:\n",
    "            print(\n",
    "                f\"Rectangle {rectangle_num} is adjacent to {num_adjacent} rectangles:\" + details)\n"
   ]
  },
  {
   "cell_type": "code",
   "execution_count": null,
   "metadata": {},
   "outputs": [
    {
     "data": {
      "image/png": "[encoded data removed]",
      "text/plain": [
       "<Figure size 640x480 with 1 Axes>"
      ]
     },
     "metadata": {},
     "output_type": "display_data"
    }
   ],
   "source": [
    "fig, ax = plt.subplots()\n",
    "\n",
    "for i, d in enumerate(data):\n",
    "    color = colors[i % len(colors)]\n",
    "    r = rectangles[i]\n",
    "    anchor = (int(r[1]), int(r[2]))\n",
    "    width = int(r[3]) - int(r[1])\n",
    "    height = int(r[4]) - int(r[2])\n",
    "    rectangle = Rectangle(anchor, width, height, fill=True,\n",
    "                          facecolor=color, edgecolor='#000000')\n",
    "    ax.add_patch(rectangle)\n",
    "    rx, ry = rectangle.get_xy()\n",
    "    cx = rx + rectangle.get_width()/2.0\n",
    "    cy = ry + rectangle.get_height()/2.0\n",
    "    ax.annotate(r[0], (cx, cy), color='black',\n",
    "                fontsize=10, ha='center', va='center')\n",
    "\n",
    "    num_adj = int(d[1])\n",
    "    for j in range(num_adj):\n",
    "        x = int(d[3 + j*4])\n",
    "        yb = int(d[4 + j*4])\n",
    "        yt = int(d[5 + j*4])\n",
    "\n",
    "        plt.plot([x, x], [yb, yt], color='red', linewidth=2)\n",
    "\n",
    "# display plot\n",
    "ax.set_xlim(left=0, right=45)\n",
    "ax.set_ylim(bottom=0, top=40)\n",
    "plt.show()\n"
   ]
  }
 ],
 "metadata": {
  "kernelspec": {
   "display_name": "base",
   "language": "python",
   "name": "python3"
  },
  "language_info": {
   "codemirror_mode": {
    "name": "ipython",
    "version": 3
   },
   "file_extension": ".py",
   "mimetype": "text/x-python",
   "name": "python",
   "nbconvert_exporter": "python",
   "pygments_lexer": "ipython3",
   "version": "3.9.16"
  },
  "orig_nbformat": 4
 },
 "nbformat": 4,
 "nbformat_minor": 2
}
